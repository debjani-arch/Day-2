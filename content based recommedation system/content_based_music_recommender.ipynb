{
  "cells": [
    {
      "cell_type": "markdown",
      "metadata": {
        "id": "view-in-github",
        "colab_type": "text"
      },
      "source": [
        "<a href=\"https://colab.research.google.com/github/debjani-arch/Day-2/blob/master/content%20based%20recommedation%20system/content_based_music_recommender.ipynb\" target=\"_parent\"><img src=\"https://colab.research.google.com/assets/colab-badge.svg\" alt=\"Open In Colab\"/></a>"
      ]
    },
    {
      "cell_type": "markdown",
      "metadata": {
        "id": "r7Pa7O2ymTF1"
      },
      "source": [
        "# Music recommender system\n",
        "\n",
        "One of the most used machine learning algorithms is recommendation systems. A **recommender** (or recommendation) **system** (or engine) is a filtering system which aim is to predict a rating or preference a user would give to an item, eg. a film, a product, a song, etc.\n",
        "\n",
        "Which type of recommender can we have?   \n",
        "\n",
        "There are two main types of recommender systems: \n",
        "- Content-based filters\n",
        "- Collaborative filters\n",
        "  \n",
        "> Content-based filters predicts what a user likes based on what that particular user has liked in the past. On the other hand, collaborative-based filters predict what a user like based on what other users, that are similar to that particular user, have liked.\n",
        "\n",
        "### 1) Content-based filters\n",
        "\n",
        "Recommendations done using content-based recommenders can be seen as a user-specific classification problem. This classifier learns the user's likes and dislikes from the features of the song.\n",
        "\n",
        "The most straightforward approach is **keyword matching**.\n",
        "\n",
        "In a few words, the idea behind is to extract meaningful keywords present in a song description a user likes, search for the keywords in other song descriptions to estimate similarities among them, and based on that, recommend those songs to the user.\n",
        "\n",
        "*How is this performed?*\n",
        "\n",
        "In our case, because we are working with text and words, **Term Frequency-Inverse Document Frequency (TF-IDF)** can be used for this matching process.\n",
        "  \n",
        "We'll go through the steps for generating a **content-based** music recommender system."
      ]
    },
    {
      "cell_type": "markdown",
      "metadata": {
        "id": "Wl1yKcBVmTF3"
      },
      "source": [
        "### Importing required libraries\n",
        "\n",
        "First, we'll import all the required libraries."
      ]
    },
    {
      "cell_type": "code",
      "execution_count": null,
      "metadata": {
        "id": "aN9xesggmTF4"
      },
      "outputs": [],
      "source": [
        "import numpy as np\n",
        "import pandas as pd"
      ]
    },
    {
      "cell_type": "code",
      "execution_count": null,
      "metadata": {
        "id": "5p-kauODmTF4"
      },
      "outputs": [],
      "source": [
        "from typing import List, Dict"
      ]
    },
    {
      "cell_type": "markdown",
      "metadata": {
        "id": "5BB7n73XmTF4"
      },
      "source": [
        "We have already used the **TF-IDF score before** when performing Twitter sentiment analysis. \n",
        "\n",
        "Likewise, we are going to use TfidfVectorizer from the Scikit-learn package again."
      ]
    },
    {
      "cell_type": "code",
      "execution_count": 2,
      "metadata": {
        "id": "YAGna98AmTF5"
      },
      "outputs": [],
      "source": [
        "from sklearn.feature_extraction.text import TfidfVectorizer\n",
        "from sklearn.metrics.pairwise import cosine_similarity"
      ]
    },
    {
      "cell_type": "markdown",
      "metadata": {
        "id": "O7JITjtemTF5"
      },
      "source": [
        "### Dataset"
      ]
    },
    {
      "cell_type": "markdown",
      "metadata": {
        "id": "3xpkESxDmTF5"
      },
      "source": [
        "So imagine that we have the [following dataset](https://www.kaggle.com/mousehead/songlyrics/data#). \n",
        "\n",
        "This dataset contains name, artist, and lyrics for *57650 songs in English*. The data has been acquired from LyricsFreak through scraping."
      ]
    },
    {
      "cell_type": "code",
      "execution_count": null,
      "metadata": {
        "id": "NxK2SBygmTF5"
      },
      "outputs": [],
      "source": [
        "songs = pd.read_csv('content based recommedation system/songdata.csv') "
      ]
    },
    {
      "cell_type": "code",
      "execution_count": 3,
      "metadata": {
        "id": "fOHJ4WhvmTF5",
        "outputId": "2b5360d1-539d-49b3-f572-4f76824a2cf0",
        "colab": {
          "base_uri": "https://localhost:8080/",
          "height": 172
        }
      },
      "outputs": [
        {
          "output_type": "error",
          "ename": "NameError",
          "evalue": "ignored",
          "traceback": [
            "\u001b[0;31m---------------------------------------------------------------------------\u001b[0m",
            "\u001b[0;31mNameError\u001b[0m                                 Traceback (most recent call last)",
            "\u001b[0;32m<ipython-input-3-94ddab612f8b>\u001b[0m in \u001b[0;36m<cell line: 1>\u001b[0;34m()\u001b[0m\n\u001b[0;32m----> 1\u001b[0;31m \u001b[0msongs\u001b[0m\u001b[0;34m.\u001b[0m\u001b[0mhead\u001b[0m\u001b[0;34m(\u001b[0m\u001b[0;34m)\u001b[0m\u001b[0;34m\u001b[0m\u001b[0;34m\u001b[0m\u001b[0m\n\u001b[0m",
            "\u001b[0;31mNameError\u001b[0m: name 'songs' is not defined"
          ]
        }
      ],
      "source": [
        "songs.head()"
      ]
    },
    {
      "cell_type": "markdown",
      "metadata": {
        "id": "47ok8aX4mTF6"
      },
      "source": [
        "Because of the dataset being so big, we are going to resample only 5000 random songs."
      ]
    },
    {
      "cell_type": "code",
      "execution_count": null,
      "metadata": {
        "id": "CAdbmnz-mTF6"
      },
      "outputs": [],
      "source": [
        "songs = songs.sample(n=5000).drop('link', axis=1).reset_index(drop=True)"
      ]
    },
    {
      "cell_type": "markdown",
      "metadata": {
        "id": "fz4IMPPMmTF7"
      },
      "source": [
        "We can notice also the presence of `\\n` in the text, so we are going to remove it."
      ]
    },
    {
      "cell_type": "code",
      "execution_count": null,
      "metadata": {
        "id": "U-Wx_f7YmTF7"
      },
      "outputs": [],
      "source": [
        "songs['text'] = songs['text'].str.replace(r'\\n', '')"
      ]
    },
    {
      "cell_type": "markdown",
      "metadata": {
        "id": "7UpROnxYmTF7"
      },
      "source": [
        "After that, we use TF-IDF vectorizerthat calculates the TF-IDF score for each song lyric, word-by-word. \n",
        "\n",
        "Here, we pay particular attention to the arguments we can specify."
      ]
    },
    {
      "cell_type": "code",
      "execution_count": null,
      "metadata": {
        "id": "aCJbqZWamTF7"
      },
      "outputs": [],
      "source": [
        "tfidf = TfidfVectorizer(analyzer='word', stop_words='english')"
      ]
    },
    {
      "cell_type": "code",
      "execution_count": null,
      "metadata": {
        "id": "xwIjy7i2mTF7"
      },
      "outputs": [],
      "source": [
        "lyrics_matrix = tfidf.fit_transform(songs['text'])"
      ]
    },
    {
      "cell_type": "markdown",
      "metadata": {
        "id": "yoAmi8HRmTF8"
      },
      "source": [
        "*How do we use this matrix for a recommendation?* \n",
        "\n",
        "We now need to calculate the similarity of one lyric to another. We are going to use **cosine similarity**.\n",
        "\n",
        "We want to calculate the cosine similarity of each item with every other item in the dataset. So we just pass the lyrics_matrix as argument."
      ]
    },
    {
      "cell_type": "code",
      "execution_count": null,
      "metadata": {
        "id": "8kuxqrdomTF8"
      },
      "outputs": [],
      "source": [
        "cosine_similarities = cosine_similarity(lyrics_matrix) "
      ]
    },
    {
      "cell_type": "markdown",
      "metadata": {
        "id": "J6kmN9c7mTF8"
      },
      "source": [
        "Once we get the similarities, we'll store in a dictionary the names of the 50  most similar songs for each song in our dataset."
      ]
    },
    {
      "cell_type": "code",
      "execution_count": null,
      "metadata": {
        "id": "SqnVOsCLmTF8"
      },
      "outputs": [],
      "source": [
        "similarities = {}"
      ]
    },
    {
      "cell_type": "code",
      "execution_count": null,
      "metadata": {
        "id": "uaRwGq6omTF8"
      },
      "outputs": [],
      "source": [
        "for i in range(len(cosine_similarities)):\n",
        "    # Now we'll sort each element in cosine_similarities and get the indexes of the songs. \n",
        "    similar_indices = cosine_similarities[i].argsort()[:-50:-1] \n",
        "    # After that, we'll store in similarities each name of the 50 most similar songs.\n",
        "    # Except the first one that is the same song.\n",
        "    similarities[songs['song'].iloc[i]] = [(cosine_similarities[i][x], songs['song'][x], songs['artist'][x]) for x in similar_indices][1:]"
      ]
    },
    {
      "cell_type": "markdown",
      "metadata": {
        "id": "IX7lqpOOmTF8"
      },
      "source": [
        "After that, all the magic happens. We can use that similarity scores to access the most similar items and give a recommendation.\n",
        "\n",
        "For that, we'll define our Content based recommender class."
      ]
    },
    {
      "cell_type": "code",
      "execution_count": null,
      "metadata": {
        "id": "PaMHA7C-mTF9"
      },
      "outputs": [],
      "source": [
        "class ContentBasedRecommender:\n",
        "    def __init__(self, matrix):\n",
        "        self.matrix_similar = matrix\n",
        "\n",
        "    def _print_message(self, song, recom_song):\n",
        "        rec_items = len(recom_song)\n",
        "        \n",
        "        print(f'The {rec_items} recommended songs for {song} are:')\n",
        "        for i in range(rec_items):\n",
        "            print(f\"Number {i+1}:\")\n",
        "            print(f\"{recom_song[i][1]} by {recom_song[i][2]} with {round(recom_song[i][0], 3)} similarity score\") \n",
        "            print(\"--------------------\")\n",
        "        \n",
        "    def recommend(self, recommendation):\n",
        "        # Get song to find recommendations for\n",
        "        song = recommendation['song']\n",
        "        # Get number of songs to recommend\n",
        "        number_songs = recommendation['number_songs']\n",
        "        # Get the number of songs most similars from matrix similarities\n",
        "        recom_song = self.matrix_similar[song][:number_songs]\n",
        "        # print each item\n",
        "        self._print_message(song=song, recom_song=recom_song)"
      ]
    },
    {
      "cell_type": "markdown",
      "metadata": {
        "id": "wptGTpAymTF9"
      },
      "source": [
        "Now, instantiate class"
      ]
    },
    {
      "cell_type": "code",
      "execution_count": null,
      "metadata": {
        "id": "6KCiNfEHmTF9"
      },
      "outputs": [],
      "source": [
        "recommedations = ContentBasedRecommender(similarities)"
      ]
    },
    {
      "cell_type": "markdown",
      "metadata": {
        "id": "NLRKel2SmTF9"
      },
      "source": [
        "Then, we are ready to pick a song from the dataset and make a recommendation."
      ]
    },
    {
      "cell_type": "code",
      "execution_count": null,
      "metadata": {
        "id": "yh7shScXmTF9"
      },
      "outputs": [],
      "source": [
        "recommendation = {\n",
        "    \"song\": songs['song'].iloc[10],\n",
        "    \"number_songs\": 4 \n",
        "}"
      ]
    },
    {
      "cell_type": "code",
      "execution_count": null,
      "metadata": {
        "id": "6rnUbIrpmTF9",
        "outputId": "0dea6b56-d41d-44b2-be1b-1aa340231a2e"
      },
      "outputs": [
        {
          "name": "stdout",
          "output_type": "stream",
          "text": [
            "The 4 recommended songs for Jehovah And All That Jazz are:\n",
            "Number 1:\n",
            "Sing by Glen Campbell with 0.166 similarity score\n",
            "--------------------\n",
            "Number 2:\n",
            "Devil Cried by Black Sabbath with 0.149 similarity score\n",
            "--------------------\n",
            "Number 3:\n",
            "Angelique by Kenny Loggins with 0.141 similarity score\n",
            "--------------------\n",
            "Number 4:\n",
            "Up The Devil's Pay by Old 97's with 0.131 similarity score\n",
            "--------------------\n"
          ]
        }
      ],
      "source": [
        "recommedations.recommend(recommendation)"
      ]
    },
    {
      "cell_type": "markdown",
      "metadata": {
        "id": "sFu_mC3qmTF-"
      },
      "source": [
        "And we can pick another random song and recommend again:"
      ]
    },
    {
      "cell_type": "code",
      "execution_count": null,
      "metadata": {
        "id": "Rsox8wN_mTF-"
      },
      "outputs": [],
      "source": [
        "recommendation2 = {\n",
        "    \"song\": songs['song'].iloc[120],\n",
        "    \"number_songs\": 4 \n",
        "}"
      ]
    },
    {
      "cell_type": "code",
      "execution_count": null,
      "metadata": {
        "id": "pK9JLpUmmTF-",
        "outputId": "2be64ed5-b7e0-49a8-fd31-5769432f5934"
      },
      "outputs": [
        {
          "name": "stdout",
          "output_type": "stream",
          "text": [
            "The 4 recommended songs for I Do It For Your Love are:\n",
            "Number 1:\n",
            "I Love You by Lionel Richie with 0.189 similarity score\n",
            "--------------------\n",
            "Number 2:\n",
            "Just One Love by Michael Bolton with 0.187 similarity score\n",
            "--------------------\n",
            "Number 3:\n",
            "I'm Gonna Sit Right Down And Write Myself A Letter by Nat King Cole with 0.184 similarity score\n",
            "--------------------\n",
            "Number 4:\n",
            "If I Love Again by Barbra Streisand with 0.183 similarity score\n",
            "--------------------\n"
          ]
        }
      ],
      "source": [
        "recommedations.recommend(recommendation2)"
      ]
    }
  ],
  "metadata": {
    "kernelspec": {
      "display_name": "Python 3",
      "language": "python",
      "name": "python3"
    },
    "language_info": {
      "codemirror_mode": {
        "name": "ipython",
        "version": 3
      },
      "file_extension": ".py",
      "mimetype": "text/x-python",
      "name": "python",
      "nbconvert_exporter": "python",
      "pygments_lexer": "ipython3",
      "version": "3.6.6"
    },
    "colab": {
      "provenance": [],
      "include_colab_link": true
    }
  },
  "nbformat": 4,
  "nbformat_minor": 0
}